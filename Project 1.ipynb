{
 "cells": [
  {
   "cell_type": "code",
   "execution_count": 3,
   "metadata": {},
   "outputs": [],
   "source": [
    "ad.data <- read.csv(\"data.csv\", stringsAsFactors=F)"
   ]
  },
  {
   "cell_type": "markdown",
   "metadata": {},
   "source": [
    "# Project 1\n",
    "by Jaime Vargas and Daryna Kondratiuk \n",
    "___"
   ]
  },
  {
   "cell_type": "markdown",
   "metadata": {},
   "source": [
    "<a id=\"contents\"></a>\n",
    "<div>\n",
    "    <h2>\n",
    "    Table of Contents\n",
    "    </h2>\n",
    "    <br>\n",
    "    1. <a href='#intro'>Objective of the Proposed Research</a><br>\n",
    "    2. <a href='#dataExp'>Data Exploration</a><br>\n",
    "    3. <a href='#dataClean'>Data Cleaning</a><br>\n",
    "    4. <a href='#adapt'>Adaption</a><br>\n",
    "    5. <a href='#summ'>Summary</a><br>\n",
    "    6. <a href=\"#rec\">Recommendation</a>\n",
    "</div>"
   ]
  },
  {
   "cell_type": "markdown",
   "metadata": {},
   "source": [
    "<a id=\"intro\"></a>\n",
    "<div>\n",
    "    <h2>\n",
    "        Objective of the Proposed Research \n",
    "    </h2> \n",
    "</div>"
   ]
  },
  {
   "cell_type": "markdown",
   "metadata": {},
   "source": [
    "Predicting the future is an ability that many companies wish they had. With linear regression, it is possible to predict certain outcomes if you posses the right dataset. In this analysis, we will be analyzing Uptown Digital's(™) ad campaign data from FaceBook's ad manager to determine an equation that will allow us to predict user engagement and conversion rates. \n",
    "\n",
    "We will explore the data first, to get a clear idea of what information we have and how important it is. After we perform these simple observations we will be cleaning the data, and removing or adding columns to enrich the dataset. Once the data is cleaned, we will be ready to start our analysis and linear regression calculations.\n",
    "\n",
    "\n",
    "\n",
    "Once we have a significant and accurate model and have examined the results thoroughly, we will prepare a summary for the Chief Marketing Officer to provide him will all the information he will need to make better decisions for the company's targeted ads. We will include our own recommendation based on a predictive model and include charts and tables to better display the results in our report. Our insights will serve to better inform the stakeholders of how they should be managing their ad campaigns.\n",
    "\n",
    "<a href=\"#contents\">Table of Contents</a>"
   ]
  },
  {
   "cell_type": "markdown",
   "metadata": {},
   "source": [
    "<a id=\"dataExp\"></a>\n",
    "<div>\n",
    "    <h2>\n",
    "        Data Exploration \n",
    "    </h2> \n",
    "</div>"
   ]
  },
  {
   "cell_type": "markdown",
   "metadata": {},
   "source": [
    "To start off, I will perform some basic data exploration. It's always a good idea to take a look at the first 5 rows of your data, to get a small understanding of what you're dealing with."
   ]
  },
  {
   "cell_type": "code",
   "execution_count": 4,
   "metadata": {},
   "outputs": [
    {
     "data": {
      "text/html": [
       "<table>\n",
       "<thead><tr><th scope=col>ad_id</th><th scope=col>reporting_start</th><th scope=col>reporting_end</th><th scope=col>campaign_id</th><th scope=col>fb_campaign_id</th><th scope=col>age</th><th scope=col>gender</th><th scope=col>interest1</th><th scope=col>interest2</th><th scope=col>interest3</th><th scope=col>impressions</th><th scope=col>clicks</th><th scope=col>spent</th><th scope=col>total_conversion</th><th scope=col>approved_conversion</th></tr></thead>\n",
       "<tbody>\n",
       "\t<tr><td>708746    </td><td>17/08/2017</td><td>17/08/2017</td><td>916       </td><td>103916    </td><td>30-34     </td><td>M         </td><td>15        </td><td>17        </td><td>17        </td><td> 7350     </td><td>1         </td><td>1.43      </td><td>2         </td><td>1         </td></tr>\n",
       "\t<tr><td>708749    </td><td>17/08/2017</td><td>17/08/2017</td><td>916       </td><td>103917    </td><td>30-34     </td><td>M         </td><td>16        </td><td>19        </td><td>21        </td><td>17861     </td><td>2         </td><td>1.82      </td><td>2         </td><td>0         </td></tr>\n",
       "\t<tr><td>708771    </td><td>17/08/2017</td><td>17/08/2017</td><td>916       </td><td>103920    </td><td>30-34     </td><td>M         </td><td>20        </td><td>25        </td><td>22        </td><td>  693     </td><td>0         </td><td>0.00      </td><td>1         </td><td>0         </td></tr>\n",
       "\t<tr><td>708815    </td><td>30/08/2017</td><td>30/08/2017</td><td>916       </td><td>103928    </td><td>30-34     </td><td>M         </td><td>28        </td><td>32        </td><td>32        </td><td> 4259     </td><td>1         </td><td>1.25      </td><td>1         </td><td>0         </td></tr>\n",
       "\t<tr><td>708818    </td><td>17/08/2017</td><td>17/08/2017</td><td>916       </td><td>103928    </td><td>30-34     </td><td>M         </td><td>28        </td><td>33        </td><td>32        </td><td> 4133     </td><td>1         </td><td>1.29      </td><td>1         </td><td>1         </td></tr>\n",
       "</tbody>\n",
       "</table>\n"
      ],
      "text/latex": [
       "\\begin{tabular}{r|lllllllllllllll}\n",
       " ad\\_id & reporting\\_start & reporting\\_end & campaign\\_id & fb\\_campaign\\_id & age & gender & interest1 & interest2 & interest3 & impressions & clicks & spent & total\\_conversion & approved\\_conversion\\\\\n",
       "\\hline\n",
       "\t 708746     & 17/08/2017 & 17/08/2017 & 916        & 103916     & 30-34      & M          & 15         & 17         & 17         &  7350      & 1          & 1.43       & 2          & 1         \\\\\n",
       "\t 708749     & 17/08/2017 & 17/08/2017 & 916        & 103917     & 30-34      & M          & 16         & 19         & 21         & 17861      & 2          & 1.82       & 2          & 0         \\\\\n",
       "\t 708771     & 17/08/2017 & 17/08/2017 & 916        & 103920     & 30-34      & M          & 20         & 25         & 22         &   693      & 0          & 0.00       & 1          & 0         \\\\\n",
       "\t 708815     & 30/08/2017 & 30/08/2017 & 916        & 103928     & 30-34      & M          & 28         & 32         & 32         &  4259      & 1          & 1.25       & 1          & 0         \\\\\n",
       "\t 708818     & 17/08/2017 & 17/08/2017 & 916        & 103928     & 30-34      & M          & 28         & 33         & 32         &  4133      & 1          & 1.29       & 1          & 1         \\\\\n",
       "\\end{tabular}\n"
      ],
      "text/markdown": [
       "\n",
       "| ad_id | reporting_start | reporting_end | campaign_id | fb_campaign_id | age | gender | interest1 | interest2 | interest3 | impressions | clicks | spent | total_conversion | approved_conversion |\n",
       "|---|---|---|---|---|---|---|---|---|---|---|---|---|---|---|\n",
       "| 708746     | 17/08/2017 | 17/08/2017 | 916        | 103916     | 30-34      | M          | 15         | 17         | 17         |  7350      | 1          | 1.43       | 2          | 1          |\n",
       "| 708749     | 17/08/2017 | 17/08/2017 | 916        | 103917     | 30-34      | M          | 16         | 19         | 21         | 17861      | 2          | 1.82       | 2          | 0          |\n",
       "| 708771     | 17/08/2017 | 17/08/2017 | 916        | 103920     | 30-34      | M          | 20         | 25         | 22         |   693      | 0          | 0.00       | 1          | 0          |\n",
       "| 708815     | 30/08/2017 | 30/08/2017 | 916        | 103928     | 30-34      | M          | 28         | 32         | 32         |  4259      | 1          | 1.25       | 1          | 0          |\n",
       "| 708818     | 17/08/2017 | 17/08/2017 | 916        | 103928     | 30-34      | M          | 28         | 33         | 32         |  4133      | 1          | 1.29       | 1          | 1          |\n",
       "\n"
      ],
      "text/plain": [
       "  ad_id  reporting_start reporting_end campaign_id fb_campaign_id age   gender\n",
       "1 708746 17/08/2017      17/08/2017    916         103916         30-34 M     \n",
       "2 708749 17/08/2017      17/08/2017    916         103917         30-34 M     \n",
       "3 708771 17/08/2017      17/08/2017    916         103920         30-34 M     \n",
       "4 708815 30/08/2017      30/08/2017    916         103928         30-34 M     \n",
       "5 708818 17/08/2017      17/08/2017    916         103928         30-34 M     \n",
       "  interest1 interest2 interest3 impressions clicks spent total_conversion\n",
       "1 15        17        17         7350       1      1.43  2               \n",
       "2 16        19        21        17861       2      1.82  2               \n",
       "3 20        25        22          693       0      0.00  1               \n",
       "4 28        32        32         4259       1      1.25  1               \n",
       "5 28        33        32         4133       1      1.29  1               \n",
       "  approved_conversion\n",
       "1 1                  \n",
       "2 0                  \n",
       "3 0                  \n",
       "4 0                  \n",
       "5 1                  "
      ]
     },
     "metadata": {},
     "output_type": "display_data"
    }
   ],
   "source": [
    "head(ad.data, n=5)"
   ]
  },
  {
   "cell_type": "code",
   "execution_count": 5,
   "metadata": {},
   "outputs": [
    {
     "data": {
      "text/plain": [
       "     ad_id         reporting_start    reporting_end      campaign_id       \n",
       " Min.   : 708746   Length:1143        Length:1143        Length:1143       \n",
       " 1st Qu.: 777633   Class :character   Class :character   Class :character  \n",
       " Median :1121185   Mode  :character   Mode  :character   Mode  :character  \n",
       " Mean   : 987261                                                           \n",
       " 3rd Qu.:1121805                                                           \n",
       " Max.   :1314415                                                           \n",
       "                                                                           \n",
       " fb_campaign_id         age               gender            interest1     \n",
       " Length:1143        Length:1143        Length:1143        Min.   :  2.00  \n",
       " Class :character   Class :character   Class :character   1st Qu.: 16.00  \n",
       " Mode  :character   Mode  :character   Mode  :character   Median : 26.00  \n",
       "                                                          Mean   : 33.88  \n",
       "                                                          3rd Qu.: 32.00  \n",
       "                                                          Max.   :120.00  \n",
       "                                                                          \n",
       "   interest2         interest3       impressions            clicks      \n",
       " Min.   :      3   Min.   :  0.00   Min.   :      0.0   Min.   :  0.00  \n",
       " 1st Qu.:     22   1st Qu.: 19.00   1st Qu.:    144.3   1st Qu.:  1.00  \n",
       " Median :     33   Median : 27.00   Median :   3142.0   Median :  2.00  \n",
       " Mean   : 118061   Mean   : 42.47   Mean   :  68725.0   Mean   : 11.63  \n",
       " 3rd Qu.:  98894   3rd Qu.: 38.00   3rd Qu.:  27864.0   3rd Qu.:  8.00  \n",
       " Max.   :2286228   Max.   :421.00   Max.   :3052003.0   Max.   :340.00  \n",
       "                                                                        \n",
       "     spent        total_conversion approved_conversion\n",
       " Min.   :  0.00   Min.   : 0.000   Min.   : 0.0000    \n",
       " 1st Qu.:  0.00   1st Qu.: 1.000   1st Qu.: 0.0000    \n",
       " Median :  1.53   Median : 1.000   Median : 0.0000    \n",
       " Mean   : 17.60   Mean   : 2.162   Mean   : 0.7687    \n",
       " 3rd Qu.:  8.54   3rd Qu.: 2.000   3rd Qu.: 1.0000    \n",
       " Max.   :639.95   Max.   :60.000   Max.   :21.0000    \n",
       "                  NA's   :382      NA's   :382        "
      ]
     },
     "metadata": {},
     "output_type": "display_data"
    }
   ],
   "source": [
    "summary(ad.data)"
   ]
  },
  {
   "cell_type": "code",
   "execution_count": 6,
   "metadata": {},
   "outputs": [
    {
     "name": "stdout",
     "output_type": "stream",
     "text": [
      "'data.frame':\t1143 obs. of  15 variables:\n",
      " $ ad_id              : int  708746 708749 708771 708815 708818 708820 708889 708895 708953 708958 ...\n",
      " $ reporting_start    : chr  \"17/08/2017\" \"17/08/2017\" \"17/08/2017\" \"30/08/2017\" ...\n",
      " $ reporting_end      : chr  \"17/08/2017\" \"17/08/2017\" \"17/08/2017\" \"30/08/2017\" ...\n",
      " $ campaign_id        : chr  \"916\" \"916\" \"916\" \"916\" ...\n",
      " $ fb_campaign_id     : chr  \"103916\" \"103917\" \"103920\" \"103928\" ...\n",
      " $ age                : chr  \"30-34\" \"30-34\" \"30-34\" \"30-34\" ...\n",
      " $ gender             : chr  \"M\" \"M\" \"M\" \"M\" ...\n",
      " $ interest1          : int  15 16 20 28 28 29 15 16 27 28 ...\n",
      " $ interest2          : int  17 19 25 32 33 30 16 20 31 32 ...\n",
      " $ interest3          : int  17 21 22 32 32 30 17 18 31 31 ...\n",
      " $ impressions        : num  7350 17861 693 4259 4133 ...\n",
      " $ clicks             : int  1 2 0 1 1 0 3 1 1 3 ...\n",
      " $ spent              : num  1.43 1.82 0 1.25 1.29 ...\n",
      " $ total_conversion   : int  2 2 1 1 1 1 1 1 1 1 ...\n",
      " $ approved_conversion: int  1 0 0 0 1 1 0 1 0 0 ...\n"
     ]
    }
   ],
   "source": [
    "str(ad.data)"
   ]
  },
  {
   "cell_type": "markdown",
   "metadata": {},
   "source": [
    "<a href=\"#contents\">Table of Contents</a>"
   ]
  },
  {
   "cell_type": "markdown",
   "metadata": {},
   "source": [
    "<a id=\"dataClean\"></a>\n",
    "<div>\n",
    "    <h2>\n",
    "        Data Cleaning\n",
    "    </h2> \n",
    "</div>"
   ]
  },
  {
   "cell_type": "markdown",
   "metadata": {},
   "source": [
    "<a href=\"#contents\">Table of Contents</a>"
   ]
  },
  {
   "cell_type": "markdown",
   "metadata": {},
   "source": [
    "<a id=\"adapt\"></a>\n",
    "<div>\n",
    "    <h2>\n",
    "        Adaptation\n",
    "    </h2> \n",
    "</div>"
   ]
  },
  {
   "cell_type": "markdown",
   "metadata": {},
   "source": [
    "<a href=\"#contents\">Table of Contents</a>"
   ]
  },
  {
   "cell_type": "markdown",
   "metadata": {},
   "source": [
    "<a id=\"summ\"></a>\n",
    "<div>\n",
    "    <h2>\n",
    "        Summary\n",
    "    </h2> \n",
    "</div>"
   ]
  },
  {
   "cell_type": "markdown",
   "metadata": {},
   "source": [
    "<a href=\"#contents\">Table of Contents</a>"
   ]
  },
  {
   "cell_type": "markdown",
   "metadata": {},
   "source": [
    "<a id=\"rec\"></a>\n",
    "<div>\n",
    "    <h2>\n",
    "        Recommendation\n",
    "    </h2> \n",
    "</div>"
   ]
  },
  {
   "cell_type": "markdown",
   "metadata": {},
   "source": [
    "<a href=\"#contents\">Table of Contents</a>"
   ]
  }
 ],
 "metadata": {
  "kernelspec": {
   "display_name": "R",
   "language": "R",
   "name": "ir"
  },
  "language_info": {
   "codemirror_mode": "r",
   "file_extension": ".r",
   "mimetype": "text/x-r-source",
   "name": "R",
   "pygments_lexer": "r",
   "version": "3.6.1"
  }
 },
 "nbformat": 4,
 "nbformat_minor": 2
}
